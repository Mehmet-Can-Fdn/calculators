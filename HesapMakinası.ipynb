{
 "cells": [
  {
   "cell_type": "code",
   "execution_count": null,
   "metadata": {},
   "outputs": [
    {
     "name": "stdout",
     "output_type": "stream",
     "text": [
      "Please enter first number = 5\n",
      "Please enter second number = 7\n",
      "Choose between +,-,*,/ = +\n",
      "5 + 7 = 12\n"
     ]
    }
   ],
   "source": [
    "   def calc(x,y,ops):\n",
    "    \n",
    "    if ops not in \"+-*/\":\n",
    "        return \"Only +-*/ !!!\"\n",
    "    \n",
    "    if ops == \"+\":\n",
    "        return(str(x) + \" \" + ops + \" \" + str(y) + \" = \" + str(x+y))\n",
    "    elif ops == \"-\":\n",
    "        return(str(x) + \" \" + ops + \" \" + str(y) + \" = \" + str(x-y))\n",
    "    elif ops == \"*\":\n",
    "        return(str(x) + \" \" + ops + \" \" + str(y) + \" = \" + str(x*y))\n",
    "    elif ops == \"/\":\n",
    "        return(str(x) + \" \" + ops + \" \" + str(y) + \" = \" + str(x/y))\n",
    "\n",
    "while True:\n",
    "    \n",
    "    x = int(input(\"Please enter first number = \"))\n",
    "    y = int(input(\"Please enter second number = \"))\n",
    "    ops = input(\"Choose between +,-,*,/ = \")\n",
    "    \n",
    "    print(calc(x,y,ops))"
   ]
  }
 ],
 "metadata": {
  "kernelspec": {
   "display_name": "Python 3",
   "language": "python",
   "name": "python3"
  },
  "language_info": {
   "codemirror_mode": {
    "name": "ipython",
    "version": 3
   },
   "file_extension": ".py",
   "mimetype": "text/x-python",
   "name": "python",
   "nbconvert_exporter": "python",
   "pygments_lexer": "ipython3",
   "version": "3.8.5"
  }
 },
 "nbformat": 4,
 "nbformat_minor": 4
}
